{
 "cells": [
  {
   "cell_type": "markdown",
   "metadata": {},
   "source": [
    "# Hello World in OpenMP\n",
    "\n",
    "### Description\n",
    "\n",
    "A very basic introduction to OpenMP. The demo walks through a Hello World program parallelized with\n",
    "the `omp parallel` directive and discusses the importance and significance of thread count\n",
    "using a matrix-scalar multiplication example. \n",
    "\n",
    "Covers the following directives and API\n",
    "\n",
    "  * OpenMP directives: `parallel` and `parallel for`\n",
    "  * OpenMP API: `omp_set_num_threads()`, `omp_get_thread_num()`\n",
    "  \n",
    "### Outline\n",
    "\n",
    "   * [Installing OpenMP](#install)\n",
    "   * [Compiling and Running an OpenMP Program](#compile)\n",
    "   * [OpenMP Compiler Directives](#directives)\n",
    "   * [OpenMP Runtime API](#api)\n",
    "   * [Dynamic Thread Count and Performance Evaluation](#timing)\n",
    "   * [Thread Count ans Scalability](#thread_count)\n",
    "   \n",
    "### <a name=\"install\"></a> Installing OpenMP\n",
    "\n",
    "OpenMP does not need to be installed separately. It is packaged with the compiler on your\n",
    "system. Check the GCC version to make sure the compiler supports OpenMP"
   ]
  },
  {
   "cell_type": "code",
   "execution_count": null,
   "metadata": {},
   "outputs": [],
   "source": [
    "gcc --version"
   ]
  },
  {
   "cell_type": "markdown",
   "metadata": {},
   "source": [
    "OpenMP has been supported since GCC 4.2, which implements OpenMP specification 2.5. To\n",
    "ensure support for newer OpenMP specifications we need to have a recent version of GCC\n",
    "installed. In particular, we want at least GCC 6 which provides support for OpenMP 4.5\n",
    "which added significant enhancements over earlier versions. \n",
    "\n",
    "### <a name=\"compile\"></a>Compiling and Running an OpenMP Program\n",
    "\n",
    "To compile an OpenMP program, all that is needed is to pass the appropriate compiler flag. For GCC\n",
    "(and Clang) this flag is `-fopenmp`. Consider the following Hello World program in C. "
   ]
  },
  {
   "cell_type": "markdown",
   "metadata": {},
   "source": [
    "```C\n",
    "#include<stdio.h>\n",
    "int main(int argc, char* argv[]) {\n",
    "  printf(\"Hello World\\n\");\n",
    "  return 0;\n",
    "}\n",
    "```"
   ]
  },
  {
   "cell_type": "markdown",
   "metadata": {
    "attributes": {
     "classes": [
      "C"
     ],
     "id": ""
    }
   },
   "source": [
    "Let save this file to the current directory"
   ]
  },
  {
   "cell_type": "code",
   "execution_count": null,
   "metadata": {},
   "outputs": [],
   "source": [
    "cat > hello.c << EOF\n",
    "#include<stdio.h>\n",
    "int main(int argc, char* argv[]) {\n",
    "  printf(\"Hello World\\n\");\n",
    "  return 0;\n",
    "}\n",
    "EOF"
   ]
  },
  {
   "cell_type": "markdown",
   "metadata": {},
   "source": [
    "We can compile this code with OpenMP with the following"
   ]
  },
  {
   "cell_type": "code",
   "execution_count": null,
   "metadata": {},
   "outputs": [],
   "source": [
    "gcc -o hello -fopenmp hello.c"
   ]
  },
  {
   "cell_type": "markdown",
   "metadata": {},
   "source": [
    "We can run the resulting executable in the same manner as we would a regular sequential program"
   ]
  },
  {
   "cell_type": "code",
   "execution_count": null,
   "metadata": {},
   "outputs": [],
   "source": [
    "./hello"
   ]
  },
  {
   "cell_type": "markdown",
   "metadata": {},
   "source": [
    "Of course, we have not added any parallelism in the code yet. So the result is uninteresting. But\n",
    "even after adding parallelism, the process of compiling and running OpenMP programs will remain the\n",
    "same. \n",
    "\n",
    "\n",
    "### <a name=\"directives\"></a>OpenMP Compiler Directives\n",
    "\n",
    "To parallelize with OpenMP we need to add directives or pragmas in the source code. OpenMP supports\n",
    "a wide [range of\n",
    "pragmas](https://www.openmp.org/wp-content/uploads/OpenMP-4.5-1115-CPP-web.pdf). The most simplest\n",
    "of these is the `parallel` pragma. Let us insert the pragma in our Hello World code. So that we have something to run in parallel we will also add another statement. "
   ]
  },
  {
   "cell_type": "markdown",
   "metadata": {
    "attributes": {
     "classes": [
      "C"
     ],
     "id": ""
    }
   },
   "source": [
    "```C\n",
    "#include<stdio.h>\n",
    "int main(int argc, char* argv[]) {\n",
    "  #pragma omp parallel {\n",
    "    printf(\"Hello World\\n\");\n",
    "    printf(\"Goodbye World\\n\");\n",
    "  }\n",
    "  return 0;\n",
    "}\n",
    "```\n",
    "\n",
    "Let's save this version. "
   ]
  },
  {
   "cell_type": "code",
   "execution_count": null,
   "metadata": {},
   "outputs": [],
   "source": [
    "cat > hello.c << \"EOF\"\n",
    "#include<stdio.h>\n",
    "int main(int argc, char* argv[]) {\n",
    "  #pragma omp parallel {\n",
    "    printf(\"Hello World\\n\");\n",
    "    printf(\"Goodbye World\\n\");\n",
    "  }\n",
    "  return 0;\n",
    "}\n",
    "EOF"
   ]
  },
  {
   "cell_type": "markdown",
   "metadata": {},
   "source": [
    "All pragmas in OpenMP begin with `#pragma omp`. This is usually followed by a keyword which\n",
    "describes the action to be performed. The action can be followed by a sequence of _clauses_ to\n",
    "influence the prescribed action. For now, we will just look at the `parallel` pragma without any\n",
    "clauses. A `pragma` is usually followed by a pair of curly braces to mark the block of code on which\n",
    "the action is to be performed. Without the braces, the pragma will apply to the next statement only,\n",
    "which is a behavior, we rarely want. \n",
    "\n",
    "We can now attempt to compile the OpenMP code using the `fopenmp` flag."
   ]
  },
  {
   "cell_type": "code",
   "execution_count": null,
   "metadata": {},
   "outputs": [],
   "source": [
    "gcc -o hello -fopenmp hello.c "
   ]
  },
  {
   "cell_type": "markdown",
   "metadata": {},
   "source": [
    "#### What happened?\n",
    "\n",
    "The compiler error message is a little cryptic. The problem here is that the \n",
    "opening `{` must be on a new line. If you prefer the style where the opening brace is placed on the\n",
    "same line as the statement preceding a code block then it may take a little getting used to. The\n",
    "above code can be fixed by simply moving the opening braces to the next line."
   ]
  },
  {
   "cell_type": "code",
   "execution_count": null,
   "metadata": {
    "attributes": {
     "classes": [
      "C"
     ],
     "id": ""
    }
   },
   "outputs": [],
   "source": [
    "cat > hello.c << \"EOF\"\n",
    "#include<stdio.h>\n",
    "int main(int argc, char* argv[]) {\n",
    "  #pragma omp parallel \n",
    "  {\n",
    "    printf(\"Hello World\\n\");\n",
    "    printf(\"Goodbye World\\n\");\n",
    "  }\n",
    "  return 0;\n",
    "}\n",
    "EOF"
   ]
  },
  {
   "cell_type": "markdown",
   "metadata": {},
   "source": [
    "We can now build the code successfully."
   ]
  },
  {
   "cell_type": "code",
   "execution_count": null,
   "metadata": {},
   "outputs": [],
   "source": [
    "gcc -o hello -fopenmp hello.c"
   ]
  },
  {
   "cell_type": "markdown",
   "metadata": {},
   "source": [
    "#### What do we expect the output to be?\n",
    "\n",
    "Let's run the program"
   ]
  },
  {
   "cell_type": "code",
   "execution_count": null,
   "metadata": {
    "scrolled": true
   },
   "outputs": [],
   "source": [
    "./hello "
   ]
  },
  {
   "cell_type": "markdown",
   "metadata": {},
   "source": [
    "The behavior may not be exactly what you expected. Here's how the `parallel` directive works. \n",
    "\n",
    "  * the pragma marks a _parallel_ region in the program\n",
    "  * at runtime OpenMP creates _n_ threads where _n_ is determined from the environment\n",
    "  * each thread executes each statement in the block in parallel (i.e., an instance of block is\n",
    "    executed _n_ times) \n",
    "\n",
    "#### Can we find out how many threads OpenMP created for the Hello World program?\n",
    "\n",
    "### <a name=\"api\"></a>OpenMP Runtime Library Routines \n",
    "\n",
    "We can use `wc` to count the number of lines in the output."
   ]
  },
  {
   "cell_type": "code",
   "execution_count": null,
   "metadata": {},
   "outputs": [],
   "source": [
    "./hello | wc -l "
   ]
  },
  {
   "cell_type": "markdown",
   "metadata": {},
   "source": [
    "#### Why did OpenMP decide to create 4 threads? \n",
    "\n",
    "Generally, OpenMP will try to match the number threads to the available processing cores. Let's\n",
    "check the number of available cores in our system"
   ]
  },
  {
   "cell_type": "code",
   "execution_count": null,
   "metadata": {},
   "outputs": [],
   "source": [
    "lscpu | head -6"
   ]
  },
  {
   "cell_type": "markdown",
   "metadata": {},
   "source": [
    "We can modify this default behavior in several ways. One way to do this is via a call to [OpenMPs\n",
    "runtime library](https://gcc.gnu.org/onlinedocs/libgomp/Runtime-Library-Routines.html). OpenMP\n",
    "supports a large collection of runtime routines. To use these routines, we need include the OpenMP\n",
    "header file."
   ]
  },
  {
   "cell_type": "markdown",
   "metadata": {},
   "source": [
    "```C\n",
    "#include<omp.h>\n",
    "```"
   ]
  },
  {
   "cell_type": "markdown",
   "metadata": {},
   "source": [
    "We can then tell OpenMP to use a specific number of threads using the appropriately named function `omp_set_num_threads()`"
   ]
  },
  {
   "cell_type": "markdown",
   "metadata": {},
   "source": [
    "```C\n",
    "omp_set_num_threads(4);\n",
    "```"
   ]
  },
  {
   "cell_type": "markdown",
   "metadata": {},
   "source": [
    "Each thread created by OpenMP has an ID. This is different from the thread IDs used by the OS. We can obtain the thread ID using the `omp_get_thread_num()` function."
   ]
  },
  {
   "cell_type": "markdown",
   "metadata": {},
   "source": [
    "```C\n",
    "int ID = omp_get_thread_num();\n",
    "printf(\"Hello World from %d!\\n\", ID);\n",
    "printf(\"Goodbye World from %d!\\n\", ID);\n",
    "```"
   ]
  },
  {
   "cell_type": "markdown",
   "metadata": {},
   "source": [
    "Let's save our changes. "
   ]
  },
  {
   "cell_type": "code",
   "execution_count": null,
   "metadata": {},
   "outputs": [],
   "source": [
    "cat > hello.c << \"EOF\"\n",
    "#include<stdio.h>\n",
    "#include<omp.h>\n",
    "\n",
    "int main(int argc, char* argv[]) {\n",
    "  omp_set_num_threads(4);\n",
    "  \n",
    "  #pragma omp parallel \n",
    "  {\n",
    "    int ID = omp_get_thread_num();\n",
    "    printf(\"Hello World from %d!\\n\", ID);\n",
    "    printf(\"Goodbye World from %d!\\n\", ID);\n",
    "  }\n",
    "  return 0;\n",
    "}\n",
    "EOF"
   ]
  },
  {
   "cell_type": "markdown",
   "metadata": {},
   "source": [
    "Let's compile and run the program again."
   ]
  },
  {
   "cell_type": "code",
   "execution_count": null,
   "metadata": {},
   "outputs": [],
   "source": [
    "gcc -o hello -fopenmp hello.c "
   ]
  },
  {
   "cell_type": "code",
   "execution_count": null,
   "metadata": {},
   "outputs": [],
   "source": [
    "./hello "
   ]
  },
  {
   "cell_type": "markdown",
   "metadata": {},
   "source": [
    "Let's run the code again "
   ]
  },
  {
   "cell_type": "code",
   "execution_count": null,
   "metadata": {},
   "outputs": [],
   "source": [
    "./hello"
   ]
  },
  {
   "cell_type": "markdown",
   "metadata": {},
   "source": [
    "What can make two observations. \n",
    "  * outputs from different threads doesn't get printed out in the order of the thread IDs.   \n",
    "  * different runs results in differents orders of the output. (you may need to run it a few \n",
    "    times)\n",
    " \n",
    "This indicates that the threads are executing asyncrhonously. Success!\n",
    "\n",
    "### <a name=\"timing\"></a>Dynamic Thread Count and Performance Evaluation\n",
    "Because we specified the thread count at compile-time, the above program will _always_  launched with 4 threads. threads. Generally, this is not a good approach when programming with OpenMP. We want better control over OpenMP threads and be able to specify the number of threads considering a variety of factors including the target CPU, input size and task granularity. To set the number of threads dynamically, we can pass the thread count to the program as a command-line argument."
   ]
  },
  {
   "cell_type": "markdown",
   "metadata": {
    "attributes": {
     "classes": [
      "C"
     ],
     "id": ""
    }
   },
   "source": [
    "```C\n",
    "#include<stdio.h>\n",
    "#include<stdlib.h> // for atoi \n",
    "#include<omp.h>\n",
    "\n",
    "int main(int argc, char* argv[]) {\n",
    "\n",
    "  int num_threads;\n",
    "  if (argc <= 1)\n",
    "    num_threads = 1;\n",
    "  else\n",
    "    num_threads = atoi(argv[1]);\n",
    "\n",
    "  omp_set_num_threads(num_threads);\n",
    "  #pragma omp parallel \n",
    "  {\n",
    "    int ID = omp_get_thread_num();\n",
    "    printf(\"Hello World from %d!\\n\", ID);\n",
    "    printf(\"Goodbye World from %d!\\n\", ID);\n",
    "  }\n",
    "  return 0;\n",
    "}\n",
    "```"
   ]
  },
  {
   "cell_type": "markdown",
   "metadata": {},
   "source": [
    "Let's save this verison. "
   ]
  },
  {
   "cell_type": "code",
   "execution_count": null,
   "metadata": {},
   "outputs": [],
   "source": [
    "cat > hello.c << EOF\n",
    "#include<stdio.h>\n",
    "#include<stdlib.h>  // for atoi \n",
    "#include<omp.h>\n",
    "\n",
    "int main(int argc, char* argv[]) {\n",
    "\n",
    "  int num_threads;\n",
    "  if (argc <= 1)\n",
    "    num_threads = 1;\n",
    "  else\n",
    "    num_threads = atoi(argv[1]);\n",
    "\n",
    "  omp_set_num_threads(num_threads);\n",
    "  #pragma omp parallel \n",
    "  {\n",
    "    int ID = omp_get_thread_num();\n",
    "    printf(\"Hello World from %d!\\n\", ID);\n",
    "    printf(\"Goodbye World from %d!\\n\", ID);\n",
    "  }\n",
    "  return 0;\n",
    "}  \n",
    "EOF"
   ]
  },
  {
   "cell_type": "markdown",
   "metadata": {},
   "source": [
    "We can measure the execution time of a parallel OpenMP program just like we would a sequential\n",
    "program. Let's time the sequential version first. We can run the sequential version and time it as follows"
   ]
  },
  {
   "cell_type": "code",
   "execution_count": null,
   "metadata": {},
   "outputs": [],
   "source": [
    "gcc -o hello -fopenmp hello.c"
   ]
  },
  {
   "cell_type": "code",
   "execution_count": null,
   "metadata": {},
   "outputs": [],
   "source": [
    "time ./hello 1"
   ]
  },
  {
   "cell_type": "markdown",
   "metadata": {},
   "source": [
    "`time` does not give us good enough resolution for this tiny program. We can use `perf` to get\n",
    "*somewhat* better measurements."
   ]
  },
  {
   "cell_type": "code",
   "execution_count": null,
   "metadata": {},
   "outputs": [],
   "source": [
    "perf stat ./hello 1"
   ]
  },
  {
   "cell_type": "markdown",
   "metadata": {},
   "source": [
    "Now, let's run the code with 2 threads."
   ]
  },
  {
   "cell_type": "code",
   "execution_count": null,
   "metadata": {},
   "outputs": [],
   "source": [
    "perf stat ./hello 2"
   ]
  },
  {
   "cell_type": "markdown",
   "metadata": {},
   "source": [
    "_How much performance improvement do we get by running this code in parallel?_\n",
    "\n",
    "This very simple code is not useful for doing any kind of performance evaluation. We will look at a slightly more complex code in the next tutorial."
   ]
  }
 ],
 "metadata": {
  "kernelspec": {
   "display_name": "Bash",
   "language": "bash",
   "name": "bash"
  },
  "language_info": {
   "codemirror_mode": "shell",
   "file_extension": ".sh",
   "mimetype": "text/x-sh",
   "name": "bash"
  }
 },
 "nbformat": 4,
 "nbformat_minor": 5
}
