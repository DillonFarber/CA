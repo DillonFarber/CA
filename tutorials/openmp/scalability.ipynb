{
 "cells": [
  {
   "cell_type": "markdown",
   "id": "96b88de4",
   "metadata": {},
   "source": [
    "## [Demo] OpenMP Performance Scalability \n",
    "[D2] Heterogeneous Programming with OpenMP  \n",
    "Apan Qasem [\\<apan@txstate.edu\\>](apan@txstate.edu)\n",
    "\n",
    "### Description\n",
    "\n",
    "This interactive demo discusses the importance and significance of thread count in OpenMP\n",
    "applications. It is assumed that students know how to write a Hello World program in OpenMP (e.g.,\n",
    "have completed the ([Hello World in OpenMP](demo_hello_world.md)) tutorial. \n",
    "\n",
    "The demo also introduces the `parallel for` directive. A simple matrix-scalar multiplication code is\n",
    "used as a running example. \n",
    "\n",
    "### Outline \n",
    "\n",
    "   * [The OpenMP Hello World Program](#hello)\n",
    "   * [Parallelizing with `parallel for`](#pragma) \n",
    "   * [Thread Count ans Scalability](#thread_count)\n",
    "\n",
    "\n",
    "### <a name=\"hello\"></a>The OpenMP Hello World Program\n",
    "\n",
    "Below is the Hello World program with OpenMP parallelization that we wrote in our previous tutorial\n",
    "([Hello World in OpenMP](demo_hello_world.md))."
   ]
  },
  {
   "cell_type": "markdown",
   "id": "adfaeaca-1172-43af-b227-19cee32e481d",
   "metadata": {
    "attributes": {
     "classes": [
      "C"
     ],
     "id": ""
    }
   },
   "source": [
    "```C\n",
    "#include<stdio.h>\n",
    "#include<stdlib.h>  // for atoi \n",
    "#include<omp.h>\n",
    "\n",
    "int main(int argc, char* argv[]) {\n",
    "\n",
    "  int num_threads;\n",
    "  if (argc <= 1)\n",
    "    num_threads = 1;\n",
    "  else\n",
    "    num_threads = atoi(argv[1]);\n",
    "\n",
    "  omp_set_num_threads(num_threads);\n",
    "  #pragma omp parallel \n",
    "  {\n",
    "    int ID = omp_get_thread_num();\n",
    "    printf(\"Hello World from %d!\\n\", ID);\n",
    "    printf(\"Goodbye World from %d!\\n\", ID);\n",
    "  }\n",
    "  return 0;\n",
    "}  \n",
    "```"
   ]
  },
  {
   "cell_type": "markdown",
   "id": "263b2832",
   "metadata": {},
   "source": [
    "Let's save this file"
   ]
  },
  {
   "cell_type": "code",
   "execution_count": null,
   "id": "264c5589",
   "metadata": {},
   "outputs": [],
   "source": [
    "cat > hello.c << \"EOF\"\n",
    "#include<stdio.h>\n",
    "#include<stdlib.h>  // for atoi \n",
    "#include<omp.h>\n",
    "\n",
    "int main(int argc, char* argv[]) {\n",
    "\n",
    "  int num_threads;\n",
    "  if (argc <= 1)\n",
    "    num_threads = 1;\n",
    "  else\n",
    "    num_threads = atoi(argv[1]);\n",
    "\n",
    "  omp_set_num_threads(num_threads);\n",
    "  #pragma omp parallel \n",
    "  {\n",
    "    int ID = omp_get_thread_num();\n",
    "    printf(\"Hello World from %d!\\n\", ID);\n",
    "    printf(\"Goodbye World from %d!\\n\", ID);\n",
    "  }\n",
    "  return 0;\n",
    "} \n",
    "EOF"
   ]
  },
  {
   "cell_type": "markdown",
   "id": "f8040bae",
   "metadata": {},
   "source": [
    "Let us re-run the sequential version and time the run."
   ]
  },
  {
   "cell_type": "code",
   "execution_count": null,
   "id": "b9714673",
   "metadata": {
    "scrolled": true
   },
   "outputs": [],
   "source": [
    "gcc -o hello -fopenmp hello.c\n",
    "time ./hello 1"
   ]
  },
  {
   "cell_type": "markdown",
   "id": "14b5dbfc",
   "metadata": {},
   "source": [
    "The Linux `time` command doesn't really give us satisfactory resolution for measuring the\n",
    "performance of this _tiny_ program. We can use\n",
    "[`perf`](https://perf.wiki.kernel.org/index.php/Main_Page) to get better measurements."
   ]
  },
  {
   "cell_type": "code",
   "execution_count": null,
   "id": "2bb50c20",
   "metadata": {},
   "outputs": [],
   "source": [
    "perf stat ./hello 1"
   ]
  },
  {
   "cell_type": "markdown",
   "id": "f50f45dd",
   "metadata": {},
   "source": [
    "Now, let's run the code with 2 threads."
   ]
  },
  {
   "cell_type": "code",
   "execution_count": null,
   "id": "99ab7731",
   "metadata": {},
   "outputs": [],
   "source": [
    "perf stat ./hello 2"
   ]
  },
  {
   "cell_type": "markdown",
   "id": "a5b4ce3e",
   "metadata": {},
   "source": [
    "_How much performance improvement do we get by running this code in parallel?_\n",
    "\n",
    "None! This very simple code is not useful for doing any kind of performance analysis. \n",
    "\n",
    "### <a name=\"pragma\"></a>Parallelizing with `parallel for`\n",
    "\n",
    "Let's look at a code that is slightly more complex."
   ]
  },
  {
   "cell_type": "markdown",
   "id": "0c9f6871-e335-42b1-9c44-4e72692a0f5a",
   "metadata": {
    "attributes": {
     "classes": [
      "C"
     ],
     "id": ""
    }
   },
   "source": [
    "```C\n",
    "#include<stdio.h>\n",
    "#include<stdlib.h>\n",
    "#include<sys/time.h>\n",
    "\n",
    "#include <omp.h>\n",
    "\n",
    "#define REPS 100\n",
    "\n",
    "double t0;\n",
    "double mysecond() {\n",
    "  struct timeval tp;\n",
    "  struct timezone tzp;\n",
    "  int i;\n",
    "\n",
    "  i = gettimeofday(&tp,&tzp);\n",
    "  return ( (double) tp.tv_sec + (double) tp.tv_usec * 1.e-6 );\n",
    "}\n",
    "\n",
    "int main(int argc, char *argv[]) {\n",
    "  float **a, **b;\n",
    "  \n",
    "  int M = atoi(argv[1]);\n",
    "  int N = atoi(argv[2]);\n",
    "\n",
    "  omp_set_num_threads(N);\n",
    "\n",
    "  a = (float **) malloc(sizeof(float *) * M);\n",
    "  b = (float **) malloc(sizeof(float *) * M);\n",
    "  \n",
    "  int i, j, k;\n",
    "  for (i = 0; i < M; i++) {\n",
    "    a[i] = (float *) malloc(sizeof(float) * M);\n",
    "    b[i] = (float *) malloc(sizeof(float) * M);\n",
    "  }\n",
    "\n",
    "  for (j = 0; j < M; j++)\n",
    "    for (i = 0; i < M; i++)\n",
    "      b[i][j] = i + j;\n",
    "\n",
    "  t0 = mysecond();\n",
    "#pragma omp parallel for \n",
    "  for (int k = 0; k < REPS; k++) {\n",
    "    for (int j = 0; j < M; j++) \n",
    "      for (int i = 0; i < M; i++)\n",
    "\t   a[i][j] = b[i][j] * 17;\n",
    "  }\n",
    "\n",
    "  t0 = (mysecond() - t0) * 1.e3;\n",
    "\n",
    "  /* print an arbirtrary value from the result array */\n",
    "  printf(\"result = %3.2f\\n\", a[17][17]);\n",
    "  printf(\"parallel loop = %3.2f ms\\n\", t0);\n",
    "\n",
    "  return 0;\n",
    "\n",
    "}\n",
    "```"
   ]
  },
  {
   "cell_type": "markdown",
   "id": "0873a81c",
   "metadata": {},
   "source": [
    "Lets save this file. "
   ]
  },
  {
   "cell_type": "code",
   "execution_count": null,
   "id": "2fbf24d3",
   "metadata": {},
   "outputs": [],
   "source": [
    "cat > scale.c << \"EOF\"\n",
    "#include<stdio.h>\n",
    "#include<stdlib.h>\n",
    "#include<sys/time.h>\n",
    "\n",
    "#include <omp.h>\n",
    "\n",
    "#define REPS 100\n",
    "\n",
    "double t0;\n",
    "double mysecond() {\n",
    "  struct timeval tp;\n",
    "  struct timezone tzp;\n",
    "  int i;\n",
    "\n",
    "  i = gettimeofday(&tp,&tzp);\n",
    "  return ( (double) tp.tv_sec + (double) tp.tv_usec * 1.e-6 );\n",
    "}\n",
    "\n",
    "int main(int argc, char *argv[]) {\n",
    "  float **a, **b;\n",
    "  \n",
    "  int M = atoi(argv[1]);\n",
    "  int N = atoi(argv[2]);\n",
    "\n",
    "  omp_set_num_threads(N);\n",
    "\n",
    "  a = (float **) malloc(sizeof(float *) * M);\n",
    "  b = (float **) malloc(sizeof(float *) * M);\n",
    "  \n",
    "  int i, j, k;\n",
    "  for (i = 0; i < M; i++) {\n",
    "    a[i] = (float *) malloc(sizeof(float) * M);\n",
    "    b[i] = (float *) malloc(sizeof(float) * M);\n",
    "  }\n",
    "\n",
    "  for (j = 0; j < M; j++)\n",
    "    for (i = 0; i < M; i++)\n",
    "      b[i][j] = i + j;\n",
    "\n",
    "  t0 = mysecond();\n",
    "#pragma omp parallel for \n",
    "  for (int k = 0; k < REPS; k++) {\n",
    "    for (int j = 0; j < M; j++) \n",
    "      for (int i = 0; i < M; i++)\n",
    "        a[i][j] = b[i][j] * 17;\n",
    "  }\n",
    "\n",
    "  t0 = (mysecond() - t0) * 1.e3;\n",
    "\n",
    "  /* print an arbirtrary value from the result array */\n",
    "  printf(\"result = %3.2f\\n\", a[17][17]);\n",
    "  printf(\"parallel loop = %3.2f ms\\n\", t0);\n",
    "\n",
    "  return 0;\n",
    "\n",
    "}\n",
    "EOF"
   ]
  },
  {
   "cell_type": "markdown",
   "id": "46eaed3c",
   "metadata": {},
   "source": [
    "The above program scales the values in an array by a constant factor. The loop is parallelized with the\n",
    "`parallel for` directive. This directive is an extension of the `parallel` directive and is applied\n",
    "exclusively to the *next* for loop. The `parallel for` directive will equally divide the iterations\n",
    "of the loop and run them in parallel. The number of threads to be created is passed via a command-line\n",
    "argument. There's a built-in timer to record the execution time of the parallel loop. \n",
    "\n",
    "\n",
    "\n",
    "### <a name=\"thread_count\"></a>Thread Count and Scalability \n",
    "\n",
    "Let's build and execute the sequential version of the code."
   ]
  },
  {
   "cell_type": "code",
   "execution_count": null,
   "id": "6dd1c349",
   "metadata": {},
   "outputs": [],
   "source": [
    "g++ -o scale scale.c -fopenmp\n",
    "./scale 1000 1"
   ]
  },
  {
   "cell_type": "markdown",
   "id": "57a5be3c",
   "metadata": {},
   "source": [
    "Let's run it with 2 threads."
   ]
  },
  {
   "cell_type": "code",
   "execution_count": null,
   "id": "8117a6aa",
   "metadata": {},
   "outputs": [],
   "source": [
    "./scale 1000 2"
   ]
  },
  {
   "cell_type": "markdown",
   "id": "a3429e7e",
   "metadata": {},
   "source": [
    "The parallel version runs significantly faster. However note, even with this very simple code we are\n",
    "not able to double the performance when we increase the number of threads from 1 to 2. \n",
    "\n",
    "#### Why?\n",
    "\n",
    "See [Heterogeneous Computing: Elementary Notions](https://github.com/TeachingUndergradsCHC/modules/tree/master/Fundamentals/elementary_notions) for one explanation. \n",
    "\n",
    "Let's check the number of available cores on this system\n"
   ]
  },
  {
   "cell_type": "code",
   "execution_count": null,
   "id": "90084192",
   "metadata": {
    "scrolled": true
   },
   "outputs": [],
   "source": [
    "lscpu | head -6"
   ]
  },
  {
   "cell_type": "markdown",
   "id": "16d7e0b8",
   "metadata": {},
   "source": [
    "Now, we will try to maximize the parallelization by running the code with a thread count that matches the number of cores. OpenMP would generally pick this thread count for this system if we did not specify the it ourselves."
   ]
  },
  {
   "cell_type": "code",
   "execution_count": null,
   "id": "018f7d97",
   "metadata": {},
   "outputs": [],
   "source": [
    "./scale 1000 4"
   ]
  },
  {
   "cell_type": "markdown",
   "id": "033561b1",
   "metadata": {},
   "source": [
    "_Does it give us more performance?_\n",
    "\n",
    "On most systems we will see an increase in performance. But not proportional to the number of threads used. \n",
    "\n",
    "_What if we kept on increasing the number of threads, do we expect to get more parallelism?_"
   ]
  },
  {
   "cell_type": "code",
   "execution_count": null,
   "id": "a2801b1a",
   "metadata": {},
   "outputs": [],
   "source": [
    "./scale 1000 32\n",
    "./scale 1000 64\n",
    "./scale 1000 128"
   ]
  },
  {
   "cell_type": "markdown",
   "id": "f8868c4a",
   "metadata": {},
   "source": [
    "#### Does this performance pattern reminds us of something? \n",
    "\n",
    "This program becomes [compute-bound](https://en.wikipedia.org/wiki/CPU-bound) when the number of\n",
    "threads is substantially higher than the available processing cores. At that point increasing the\n",
    "number of threads doesn't give us any benefits (in fact in some cases it can actually hurt due to\n",
    "thread creation overhead). \n",
    "\n",
    "The ideal number of threads for a given program depends on many factors. Often some fine-tuning is\n",
    "necessary. \n",
    "\n",
    "### Exercise \n",
    "\n",
    "Compile and run the `matrix-scale` code on your own machine with increasing number of\n",
    "threads. What is the ideal thread count?"
   ]
  }
 ],
 "metadata": {
  "kernelspec": {
   "display_name": "Bash",
   "language": "bash",
   "name": "bash"
  },
  "language_info": {
   "codemirror_mode": "shell",
   "file_extension": ".sh",
   "mimetype": "text/x-sh",
   "name": "bash"
  }
 },
 "nbformat": 4,
 "nbformat_minor": 5
}
