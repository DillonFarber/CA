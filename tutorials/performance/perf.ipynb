{
 "cells": [
  {
   "cell_type": "markdown",
   "metadata": {},
   "source": [
    "## Performance Profiling with `perf`\n",
    "\n",
    "### Description \n",
    "\n",
    "A  _very_ simple introduction to performance profiling with `perf`. Also, covers the following\n",
    "\n",
    "   * hardware performance counters and performance events  \n",
    "   * relative performance and normalized performance   \n",
    "   * Tools: `hwloc`  \n",
    "   * Linux utilities: `awk`, `sed`  \n",
    "\n",
    "### Outline \n",
    "\n",
    "  * [Environment Set-up](#env)\n",
    "  * [Performance Measurement](#perf_measure)\n",
    "  * [`perf` Basics](#perf)\n",
    "  * [Normalized Performance](#norm_perf)\n",
    "\n",
    "### <a name=\"env\"></a>Environment Set-up\n",
    "   \n",
    "\n",
    "##### (i) Login to remote linux system"
   ]
  },
  {
   "cell_type": "code",
   "execution_count": null,
   "metadata": {},
   "outputs": [],
   "source": [
    "ssh knuth.cs.txstate.edu "
   ]
  },
  {
   "cell_type": "markdown",
   "metadata": {},
   "source": [
    "Set up a working directory for the experiments."
   ]
  },
  {
   "cell_type": "code",
   "execution_count": null,
   "metadata": {},
   "outputs": [],
   "source": [
    "cd\n",
    "mkdir perf_experiments \n",
    "cd perf_experiments "
   ]
  },
  {
   "cell_type": "markdown",
   "metadata": {},
   "source": [
    "##### (ii) Get familiar with the experimental environment\n",
    "\n",
    "Get information about the OS and architecture."
   ]
  },
  {
   "cell_type": "code",
   "execution_count": null,
   "metadata": {},
   "outputs": [],
   "source": [
    "uname -a"
   ]
  },
  {
   "cell_type": "markdown",
   "metadata": {},
   "source": [
    "See who else is logged on and what they are doing"
   ]
  },
  {
   "cell_type": "code",
   "execution_count": null,
   "metadata": {},
   "outputs": [],
   "source": [
    "w"
   ]
  },
  {
   "cell_type": "markdown",
   "metadata": {},
   "source": [
    "Get CPU information"
   ]
  },
  {
   "cell_type": "code",
   "execution_count": null,
   "metadata": {},
   "outputs": [],
   "source": [
    "cat /proc/cpuinfo"
   ]
  },
  {
   "cell_type": "markdown",
   "metadata": {},
   "source": [
    "Get memory information"
   ]
  },
  {
   "cell_type": "code",
   "execution_count": null,
   "metadata": {},
   "outputs": [],
   "source": [
    "cat /proc/meminfo"
   ]
  },
  {
   "cell_type": "markdown",
   "metadata": {},
   "source": [
    "The `hwloc` software package provides command-line tools and a C API to probe the system and get\n",
    "a more detailed information of compute and memory resources. `hwloc` is usually not pre-installed. It\n",
    "distributed with BSD licence and can be obtained from the [OpenMPI project\n",
    "website](https://www.open-mpi.org/projects/hwloc/). `hwloc` has several command-line tools, the most\n",
    "basic will give a hierarchical map of the compute elements and memory units."
   ]
  },
  {
   "cell_type": "code",
   "execution_count": null,
   "metadata": {},
   "outputs": [],
   "source": [
    "hwloc-ls"
   ]
  },
  {
   "cell_type": "markdown",
   "metadata": {},
   "source": [
    "##### (iii) Obtain code samples\n",
    "\n",
    "Clone the course git repo on this server."
   ]
  },
  {
   "cell_type": "code",
   "execution_count": null,
   "metadata": {},
   "outputs": [],
   "source": [
    "git clone https://git.txstate.edu/aq10/CS3339.git ~/CS3339.git"
   ]
  },
  {
   "cell_type": "markdown",
   "metadata": {},
   "source": [
    "Copy the matrix-vector multiplication source file (`matvec.c`) to your working directory"
   ]
  },
  {
   "cell_type": "code",
   "execution_count": null,
   "metadata": {},
   "outputs": [],
   "source": [
    "cp ~/CS3339.git/code_samples/matvec.c ."
   ]
  },
  {
   "cell_type": "markdown",
   "metadata": {},
   "source": [
    "##### (iv) Build and execute\n",
    "\n",
    "Build the code."
   ]
  },
  {
   "cell_type": "code",
   "execution_count": null,
   "metadata": {},
   "outputs": [],
   "source": [
    "g++ -o matvec matvec.c"
   ]
  },
  {
   "cell_type": "markdown",
   "metadata": {},
   "source": [
    "Run the executable"
   ]
  },
  {
   "cell_type": "code",
   "execution_count": null,
   "metadata": {},
   "outputs": [],
   "source": [
    "./matvec 2000 200"
   ]
  },
  {
   "cell_type": "markdown",
   "metadata": {},
   "source": [
    "### <a name=\"perf_measure\"></a>Performance Measurement\n",
    "\n",
    "**How do we measure the performance of a program?** \n",
    "\n",
    "We can use the `time` command to get a rough measure of the execution time. The terms _execution\n",
    "time_ and _running time_ are synonymous. Runtime means something different!"
   ]
  },
  {
   "cell_type": "code",
   "execution_count": null,
   "metadata": {},
   "outputs": [],
   "source": [
    "time ./matvec 2000 200"
   ]
  },
  {
   "cell_type": "markdown",
   "metadata": {},
   "source": [
    "The `time` command reports three numbers. `real` time is the time that has elapsed during the\n",
    "execution of the program. `user` time is the actual time the program is running on the\n",
    "processor. `sys` is the time when the _system_ is doing some work either on behalf of this program\n",
    "or some program. Often `real` time is roughly equal to `user` time + `sys` time \n",
    "\n",
    "**Are we happy with this performance of matvec?**\n",
    "\n",
    "#### Relative performance \n",
    "\n",
    "Login to another remote Linux system and create a working directory."
   ]
  },
  {
   "cell_type": "code",
   "execution_count": null,
   "metadata": {},
   "outputs": [],
   "source": [
    "ssh capi.cs.txstate.edu \n",
    "mkdir perf_experiments \n",
    "cd perf_experiments "
   ]
  },
  {
   "cell_type": "markdown",
   "metadata": {},
   "source": [
    "Check out the environment."
   ]
  },
  {
   "cell_type": "code",
   "execution_count": null,
   "metadata": {},
   "outputs": [],
   "source": [
    "uname -a \n",
    "cat /proc/cpuinfo \n",
    "hwloc-ls \n",
    "g++ --version "
   ]
  },
  {
   "cell_type": "markdown",
   "metadata": {},
   "source": [
    "Clone the course git repo on this server and copy the matrix-vector multiplication code to the working directory."
   ]
  },
  {
   "cell_type": "code",
   "execution_count": null,
   "metadata": {},
   "outputs": [],
   "source": [
    "git clone https://git.txstate.edu/aq10/CS3339.git ~/CS3339.git\n",
    "cp ~/CS3339.git/code_samples/matvec.c ."
   ]
  },
  {
   "cell_type": "markdown",
   "metadata": {},
   "source": [
    "Build and run the `matvec` code with the same arguments and record the execution time."
   ]
  },
  {
   "cell_type": "code",
   "execution_count": null,
   "metadata": {},
   "outputs": [],
   "source": [
    "g++ -o matvec matvec.c\n",
    "time ./matvec 2000 200"
   ]
  },
  {
   "cell_type": "markdown",
   "metadata": {},
   "source": [
    "**Which system is doing better? Do the results match your expectation?** \n",
    "\n",
    "Minimum execution time does not necessarily imply the best performance! There are many factors to\n",
    "consider. \n",
    "\n",
    "### <a name=\"perf\"></a>`perf` Basics\n",
    "\n",
    "Let's go back to our first machine. \n",
    "\n",
    "We can check if `perf` is installed just by typing the `perf` command."
   ]
  },
  {
   "cell_type": "code",
   "execution_count": null,
   "metadata": {},
   "outputs": [],
   "source": [
    "perf"
   ]
  },
  {
   "cell_type": "markdown",
   "metadata": {},
   "source": [
    "Recent versions of Ubuntu is likely to have `perf` pre-installed. If `perf` is not installed we can\n",
    "install it with the following."
   ]
  },
  {
   "cell_type": "code",
   "execution_count": null,
   "metadata": {},
   "outputs": [],
   "source": [
    "sudo apt-get install linux-tools-common linux-tools-generic linux-tools-`uname -r`"
   ]
  },
  {
   "cell_type": "markdown",
   "metadata": {},
   "source": [
    "Notice the use of back ticks in the above command. You need the `linux-tools-*` package that matches\n",
    "your kernel. \n",
    "\n",
    "Get a basic profile of the `ls` command."
   ]
  },
  {
   "cell_type": "code",
   "execution_count": null,
   "metadata": {},
   "outputs": [],
   "source": [
    "perf stat ls"
   ]
  },
  {
   "cell_type": "markdown",
   "metadata": {},
   "source": [
    "Get a basic profile of the matrix-vector multiplication code"
   ]
  },
  {
   "cell_type": "code",
   "execution_count": null,
   "metadata": {},
   "outputs": [],
   "source": [
    "perf stat ./matvec 2000 200"
   ]
  },
  {
   "cell_type": "markdown",
   "metadata": {},
   "source": [
    "**Do we have any new insight about the performance of matvec?**\n",
    "\n",
    "The set of performance metrics reported with `perf stat` are not the only ones we can get from\n",
    "`perf`. The `perf` tool allows us to measure a measure a large number of program _events_. To find\n",
    "the list of available performance events we can use the `perf list` command."
   ]
  },
  {
   "cell_type": "code",
   "execution_count": null,
   "metadata": {},
   "outputs": [],
   "source": [
    "perf list"
   ]
  },
  {
   "cell_type": "markdown",
   "metadata": {},
   "source": [
    "The above only lists the _named_ events. Typically there are hundreds more on the system. We will see how\n",
    "to access those other events later in the tutorial. \n",
    "\n",
    "To get the number of loads and stores that go to the last-level cache (LLC) we can use the following\n",
    "command with the `--event` option"
   ]
  },
  {
   "cell_type": "code",
   "execution_count": null,
   "metadata": {},
   "outputs": [],
   "source": [
    "perf stat --event LLC-loads,LLC-stores ./matvec 2000 200"
   ]
  },
  {
   "cell_type": "markdown",
   "metadata": {},
   "source": [
    "**Do we have any new insight about the performance of matvec?**\n",
    "\n",
    "### <a name=\"norm_perf\"></a>Normalized performance\n",
    "\n",
    "Execution time is not always a good measure of performance. Programs that execute more instructions\n",
    "or those that process more data will have a longer execution time. That does not necessarily mean\n",
    "that its performance is any worse that another program that executes fewer instructions. \n",
    "\n",
    "To get a better understanding of performance, we need a way to _normalize_ performance across\n",
    "programs. One way to do this is to use a _throughput_ metrics. Throughput metrics measure\n",
    "performance as a rate of _something_. For example, operating system performance may be measured in\n",
    "number of tasks completed. FLOPs/sec counts the number of completed floating-operations per\n",
    "second. This is the _de facto_ performance metric for HPC applications. This metric is also used to\n",
    "rank the fastest supercomputers in the world by [top500.org](https://www.top500.org/). \n",
    "\n",
    "**How do we measure the FLOPS for `matvec`?**\n",
    "\n",
    "We need to first find the event that corresponds to the execution of a floating-point\n",
    "operation. This is not a named event. So we will need to dig up the hex-code. The code for the FP\n",
    "event is `r538010`. We can now count the number of FP operations with perf"
   ]
  },
  {
   "cell_type": "code",
   "execution_count": null,
   "metadata": {
    "scrolled": true
   },
   "outputs": [],
   "source": [
    "perf stat -e r538010 ./matvec 2000 200"
   ]
  },
  {
   "cell_type": "markdown",
   "metadata": {},
   "source": [
    "`perf` will not give you the FLOPS directly but we can write a short script to calculate it."
   ]
  },
  {
   "cell_type": "code",
   "execution_count": null,
   "metadata": {},
   "outputs": [],
   "source": [
    "# dump perf out to tmp file \n",
    "perf stat -e r538010 ./matvec 2000 200 2> tmp.prof\n",
    "       \n",
    "# extract flop count\n",
    "flops=`cat tmp.prof | grep r538010  | awk '{print $1}' | sed 's/,//g'`\n",
    "     \n",
    "# extract number of seconds \n",
    "secs=`cat tmp.prof | grep \"elapsed\"  | awk '{print $1}'`\n",
    "  \n",
    "# calculate FLOPS\n",
    "FLOPS=`echo $flops $secs | awk '{printf \"%3.2f\", ($1/1e+09)/$2}'`"
   ]
  },
  {
   "cell_type": "code",
   "execution_count": null,
   "metadata": {},
   "outputs": [],
   "source": [
    "#print the result\n",
    "echo \"Performance = $FLOPS GFLOPS/s\""
   ]
  },
  {
   "cell_type": "code",
   "execution_count": null,
   "metadata": {},
   "outputs": [],
   "source": []
  }
 ],
 "metadata": {
  "kernelspec": {
   "display_name": "Bash",
   "language": "bash",
   "name": "bash"
  },
  "language_info": {
   "codemirror_mode": "shell",
   "file_extension": ".sh",
   "mimetype": "text/x-sh",
   "name": "bash"
  }
 },
 "nbformat": 4,
 "nbformat_minor": 5
}
