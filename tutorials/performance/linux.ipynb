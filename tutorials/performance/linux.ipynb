{
 "cells": [
  {
   "cell_type": "markdown",
   "id": "1bf238f7-fabc-4e3a-831d-0e6c62eacdae",
   "metadata": {},
   "source": [
    "## Program Execution and Performance Evaluation in Linux\n",
    "CS3339: Computer Architecture \n",
    "\n",
    "Apan Qasem [\\<apan@txstate.edu\\>](apan@txstate.edu)\n",
    "\n",
    "### Description \n",
    "\n",
    "A simple introduction to command-line program execution and performance evaluation. Covers the following\n",
    "\n",
    "   * basic Linux commands \n",
    "   * command-line compilation with `gcc`\n",
    "   * performance profiling with `perf`. \n",
    "\n",
    "This tutorial is designed for students taking CS3339. The listed remote servers are available to\n",
    "Texas State students registered in any CS course. The git repository is accessible to students in\n",
    "CS3339. \n",
    "\n",
    "### Outline \n",
    "\n",
    "* [Environment Set-up](#env)\n",
    "* [Obtaining code samples](#git)\n",
    "* [Building and executing](#gcc)\n",
    "* [Measuring performance](#time)\n",
    "* [Exploring a new architecture: POWER8](#capi) \n",
    "* [Getting performance insight via `perf`](#perf)\n",
    "\n",
    "\n",
    "### <a name=\"env\"></a>Environment Set-up\n",
    "   \n",
    "**(i) Login to remote Linux system** \n",
    "\n",
    "To connect to the remote servers from a Windows machine, use [PuTTY](https://www.putty.org/) or\n",
    "similar app. To connect from a Linux or a Mac use the terminal. From a terminal window, login to one\n",
    "of the CS servers using `ssh`."
   ]
  },
  {
   "cell_type": "code",
   "execution_count": null,
   "id": "f6de8964",
   "metadata": {},
   "outputs": [],
   "source": [
    "ssh netid@zeus.cs.txstate.edu"
   ]
  },
  {
   "cell_type": "markdown",
   "id": "92d782ff",
   "metadata": {},
   "source": [
    "`zeus` is one of the two _public_ CS servers available for remote access to all CS students. The\n",
    "other one is `eros`. Both can be accessed from outside the university firewall. \n",
    "\n",
    "The above command will prompt you for the password tied to your netid.  If the userid on your local\n",
    "Mac or Linux system is the same as your netid, then you can simply type `ssh\n",
    "server_name.cs.txstate.edu`.  \n",
    "\n",
    "The department and the [CRL](compilers.cs.txstate.edu) research group maintains many other servers\n",
    "for which you can request access. For this class, you will all be granted access to\n",
    "`capi.cs.txstate.edu` an IBM POWER8 server. \n",
    "\n",
    "**(ii) Getting around a Linux system: files and directories** \n",
    "\n",
    "List files in current directory"
   ]
  },
  {
   "cell_type": "code",
   "execution_count": null,
   "id": "dd26801d",
   "metadata": {},
   "outputs": [],
   "source": [
    "ls"
   ]
  },
  {
   "cell_type": "markdown",
   "id": "95b8111c",
   "metadata": {},
   "source": [
    "Almost all Linux commands will accept a set of options that can be used to control its\n",
    "behavior. Options are passed at the command-line using a `-` followed by a single character. The\n",
    "character corresponds to the particular option that you want enforced. Here are few useful flags for\n",
    "the `ls` command.\n",
    " \n",
    "List files in current directory including hidden files"
   ]
  },
  {
   "cell_type": "code",
   "execution_count": null,
   "id": "3960d5aa",
   "metadata": {},
   "outputs": [],
   "source": [
    "ls -a"
   ]
  },
  {
   "cell_type": "markdown",
   "id": "b6e013f1",
   "metadata": {},
   "source": [
    "List files and attributes in current directory reverse chronological order"
   ]
  },
  {
   "cell_type": "code",
   "execution_count": null,
   "id": "91cde5d6",
   "metadata": {},
   "outputs": [],
   "source": [
    "ls -ltr "
   ]
  },
  {
   "cell_type": "markdown",
   "id": "c653bdd5",
   "metadata": {},
   "source": [
    "Set up a working directory for the experiments. Create a directory"
   ]
  },
  {
   "cell_type": "code",
   "execution_count": null,
   "id": "6e851b49",
   "metadata": {},
   "outputs": [],
   "source": [
    "mkdir cs3339"
   ]
  },
  {
   "cell_type": "markdown",
   "id": "e9cd65a7",
   "metadata": {},
   "source": [
    "Change to working directory"
   ]
  },
  {
   "cell_type": "code",
   "execution_count": null,
   "id": "15a6d930",
   "metadata": {},
   "outputs": [],
   "source": [
    "cd cs3339"
   ]
  },
  {
   "cell_type": "markdown",
   "id": "39978ad3",
   "metadata": {},
   "source": [
    "Change to home directory"
   ]
  },
  {
   "cell_type": "code",
   "execution_count": null,
   "id": "4b633420",
   "metadata": {},
   "outputs": [],
   "source": [
    "cd"
   ]
  },
  {
   "cell_type": "markdown",
   "id": "92a04a67",
   "metadata": {},
   "source": [
    "Change to working directory"
   ]
  },
  {
   "cell_type": "code",
   "execution_count": null,
   "id": "a47c6ae5",
   "metadata": {},
   "outputs": [],
   "source": [
    "cd cs3339"
   ]
  },
  {
   "cell_type": "markdown",
   "id": "aebf6bba",
   "metadata": {},
   "source": [
    "**(iii) Getting familiar with the environment**\n",
    "\n",
    "Get information about the OS and architecture."
   ]
  },
  {
   "cell_type": "code",
   "execution_count": null,
   "id": "4c726272",
   "metadata": {},
   "outputs": [],
   "source": [
    "uname "
   ]
  },
  {
   "cell_type": "markdown",
   "id": "2942b481",
   "metadata": {},
   "source": [
    "Get more information (-a stands for all)"
   ]
  },
  {
   "cell_type": "code",
   "execution_count": null,
   "id": "81453a71",
   "metadata": {},
   "outputs": [],
   "source": [
    "uname -a"
   ]
  },
  {
   "cell_type": "markdown",
   "id": "5cd13526",
   "metadata": {},
   "source": [
    "See who else is logged on and what they are doing"
   ]
  },
  {
   "cell_type": "code",
   "execution_count": null,
   "id": "d3625486",
   "metadata": {},
   "outputs": [],
   "source": [
    "w"
   ]
  },
  {
   "cell_type": "markdown",
   "id": "d4556982",
   "metadata": {},
   "source": [
    "Look up specific user"
   ]
  },
  {
   "cell_type": "code",
   "execution_count": null,
   "id": "ad9fc268",
   "metadata": {},
   "outputs": [],
   "source": [
    "finger "
   ]
  },
  {
   "cell_type": "markdown",
   "id": "9efc5864",
   "metadata": {},
   "source": [
    "This command has been disabled on `zeus` and `eros` by the system administrator \n",
    "\n",
    "\n",
    "List the programs (i.e., processes) that are currently running and report resource usage"
   ]
  },
  {
   "cell_type": "code",
   "execution_count": null,
   "id": "371e138c",
   "metadata": {},
   "outputs": [],
   "source": [
    "top"
   ]
  },
  {
   "cell_type": "markdown",
   "id": "41197eae",
   "metadata": {},
   "source": [
    "Get CPU information"
   ]
  },
  {
   "cell_type": "code",
   "execution_count": null,
   "id": "d108e610",
   "metadata": {},
   "outputs": [],
   "source": [
    "cat /proc/cpuinfo"
   ]
  },
  {
   "cell_type": "markdown",
   "id": "0b4e5e3f",
   "metadata": {},
   "source": [
    "Get memory information"
   ]
  },
  {
   "cell_type": "code",
   "execution_count": null,
   "id": "9dbbe7ab",
   "metadata": {},
   "outputs": [],
   "source": [
    "cat /proc/meminfo"
   ]
  },
  {
   "cell_type": "markdown",
   "id": "5b41fe8b",
   "metadata": {},
   "source": [
    "### <a name=\"git\"></a>Obtaining code samples\n",
    "\n",
    "Clone the course git repo on this server."
   ]
  },
  {
   "cell_type": "code",
   "execution_count": null,
   "id": "1ae200b7",
   "metadata": {},
   "outputs": [],
   "source": [
    "git clone https://git.txstate.edu/aq10/CS3339.git ~/CS3339.git"
   ]
  },
  {
   "cell_type": "markdown",
   "id": "9e027fdd",
   "metadata": {},
   "source": [
    "Copy the knapsack source and input files to your working directory"
   ]
  },
  {
   "cell_type": "code",
   "execution_count": null,
   "id": "d2eb261b",
   "metadata": {},
   "outputs": [],
   "source": [
    "cp ~/CS3339.git/code_samples/knapsack/knapsack.cpp .\n",
    "cp ~/CS3339.git/code_samples/knapsack/input ."
   ]
  },
  {
   "cell_type": "markdown",
   "id": "3c64bf23",
   "metadata": {},
   "source": [
    "### <a name=\"gcc\"></a>Building and executing \n",
    "\n",
    "Compile a C++ source. The `-c` option tells GCC to only _compile_ the source. This option\n",
    "doesn't perform any _linking_ and therefore doesn't result in a program that we can execute."
   ]
  },
  {
   "cell_type": "code",
   "execution_count": null,
   "id": "5915adb4",
   "metadata": {},
   "outputs": [],
   "source": [
    "g++ -c knapsack.cpp\n",
    "ls -ltr "
   ]
  },
  {
   "cell_type": "markdown",
   "id": "9ec67bb9",
   "metadata": {},
   "source": [
    "If we want to build the executable then we need to omit the `-c` flag."
   ]
  },
  {
   "cell_type": "code",
   "execution_count": null,
   "id": "3a5eb8c0",
   "metadata": {},
   "outputs": [],
   "source": [
    " g++ -o knapsack knapsack.cpp\n",
    " ls -ltr "
   ]
  },
  {
   "cell_type": "markdown",
   "id": "bdbe135b",
   "metadata": {},
   "source": [
    "There are many things happening behind scenes when going from a source to a binary executable. We\n",
    "can inspect these steps by using the `-v` option."
   ]
  },
  {
   "cell_type": "code",
   "execution_count": null,
   "id": "53908ece",
   "metadata": {},
   "outputs": [],
   "source": [
    "g++ -v -o knapsack knapsack.cpp"
   ]
  },
  {
   "cell_type": "markdown",
   "id": "4a87c494",
   "metadata": {},
   "source": [
    "The compiler's main job is to just generate the human-readable assembly. Subsequent steps are\n",
    "conducted by tools (e.g., assembler, linker) that are packaged with the compiler. If we want to just\n",
    "generate the assembly code then we can pass the `-S` option."
   ]
  },
  {
   "cell_type": "code",
   "execution_count": null,
   "id": "b7805a2e",
   "metadata": {},
   "outputs": [],
   "source": [
    "g++ -S knapsack.cpp\n",
    "ls -ltr "
   ]
  },
  {
   "cell_type": "markdown",
   "id": "4f647243",
   "metadata": {},
   "source": [
    "Take a look at the relative size of the source, asssembly, object and executable files. \n",
    "\n",
    "**Do these sizes seem reasonable to you?**\n",
    "\n",
    "To execute a program from the command-line, we simply need the name of the executable and its\n",
    "location (_path_, in Linux terminology)."
   ]
  },
  {
   "cell_type": "code",
   "execution_count": null,
   "id": "ef1ccfbe",
   "metadata": {},
   "outputs": [],
   "source": [
    "./knapsack input"
   ]
  },
  {
   "cell_type": "markdown",
   "id": "39535252",
   "metadata": {},
   "source": [
    "The knapsack program takes a command-line argument which is the name of an input file that holds the\n",
    "data. \n",
    "    \n",
    "### <a name=\"time\"></a>Measuring performance \n",
    "\n",
    "**How do we measure the performance of a program?** \n",
    "\n",
    "We can use the `time` command to get a rough measure of the execution time. The terms _execution\n",
    "time_ and _running time_ are synonymous. _Runtime_ means something different!"
   ]
  },
  {
   "cell_type": "code",
   "execution_count": null,
   "id": "74e76055",
   "metadata": {},
   "outputs": [],
   "source": [
    "time ./knapsack input "
   ]
  },
  {
   "cell_type": "markdown",
   "id": "06a8628c",
   "metadata": {},
   "source": [
    "The `time` command reports three numbers. `real` time is the time that has elapsed during the\n",
    "execution of the program. `user` time is the actual time the program is running on the\n",
    "processor. `sys` is the time when the _system_ is doing some work either on behalf of this program\n",
    "or some program. Often `real` time is roughly equal to `user` time + `sys` time \n",
    "\n",
    "**Is the knapsack code performing well?**\n",
    "\n",
    "The answer is, we don't know! Just like at a single number doesn't tell us much. We need some basis\n",
    "for comparison (more on this in the lecture).\n",
    "\n",
    "\n",
    "Compilers implement many optimizations to try to improve the performance of a program. We can\n",
    "specify the level of optimizations using the `-O` flags. By default, `gcc` will apply only a few\n",
    "optimizations. This is referred to as level `-O0`. Let's rebuild the program at the highest optimization\n",
    "level `-O3`."
   ]
  },
  {
   "cell_type": "code",
   "execution_count": null,
   "id": "19e56861",
   "metadata": {},
   "outputs": [],
   "source": [
    "g++ -o knapsack -O3 knapsack.cpp\n",
    "time ./knapsack input "
   ]
  },
  {
   "cell_type": "markdown",
   "id": "c9d94748",
   "metadata": {},
   "source": [
    "Now, we can say that the version of `knapsack` without any optimizations (_-O0_) definitely has\n",
    "worse performance than the optimized one. \n",
    "\n",
    "We can check the optimizations that are being applied at `-O3` with the `--help=optimizers` option."
   ]
  },
  {
   "cell_type": "code",
   "execution_count": null,
   "id": "c280468f",
   "metadata": {},
   "outputs": [],
   "source": [
    "gcc -Q -O3 --help=optimizers"
   ]
  },
  {
   "cell_type": "markdown",
   "id": "460562dc",
   "metadata": {},
   "source": [
    "### <a name=\"capi\"></a>Exploring a new architecture: POWER8 \n",
    "\n",
    "Log in to `capi.cs.txstate.edu` using ssh. capi is not visible outside the firewall. Accounts will\n",
    "be created for all of you."
   ]
  },
  {
   "cell_type": "code",
   "execution_count": null,
   "id": "772f9595",
   "metadata": {},
   "outputs": [],
   "source": [
    "ssh capi.cs.txstate.edu"
   ]
  },
  {
   "cell_type": "markdown",
   "id": "527136ba",
   "metadata": {},
   "source": [
    "Check out the OS and architecture information on capi."
   ]
  },
  {
   "cell_type": "code",
   "execution_count": null,
   "id": "1fdbbf3e",
   "metadata": {},
   "outputs": [],
   "source": [
    "uname -a\n",
    "cat /proc/cpuinfo\n",
    "cat /proc/meminfo"
   ]
  },
  {
   "cell_type": "markdown",
   "id": "c4654e03",
   "metadata": {},
   "source": [
    "Generate assembly code for knapsack"
   ]
  },
  {
   "cell_type": "code",
   "execution_count": null,
   "id": "cf83b667",
   "metadata": {},
   "outputs": [],
   "source": [
    "g++ -S knapsack.cpp"
   ]
  },
  {
   "cell_type": "markdown",
   "id": "84a2ffa7",
   "metadata": {},
   "source": [
    "Notice how the instructions are different from those on zeus which is an x86 machine. \n",
    "\n",
    "Build the executable with full optimization and measure its performance."
   ]
  },
  {
   "cell_type": "code",
   "execution_count": null,
   "id": "242ba5f5",
   "metadata": {},
   "outputs": [],
   "source": [
    "gcc -o knapsack -O3 knapsack.cpp\n",
    "time ./knapsack input "
   ]
  },
  {
   "cell_type": "markdown",
   "id": "415816ec",
   "metadata": {},
   "source": [
    "### <a name=\"perf\"></a>Getting performance insight via `perf`\n",
    "\n",
    "Most recent Linux distributions come with a performance evaluation tool called `perf`. This tool\n",
    "probes the underlying hardware performance counters and can measure a variety of events\n",
    "during program execution. More on this later in the semester. \n",
    "\n",
    "To use the `perf` tool, simply type `perf` followed by a `perf` command. The `list` command lists\n",
    "the available performance events on this architecture."
   ]
  },
  {
   "cell_type": "code",
   "execution_count": null,
   "id": "e4177c0c",
   "metadata": {},
   "outputs": [],
   "source": [
    "perf list"
   ]
  },
  {
   "cell_type": "markdown",
   "id": "e9ebf7e4",
   "metadata": {},
   "source": [
    "The above only lists the _named_ events. Typically there are hundreds more on the system. \n",
    "\n",
    "To get a basic profile we can use the `stat` command, followed by the name the of the program we\n",
    "want to profile. The program can be one that you wrote or any Linux command."
   ]
  },
  {
   "cell_type": "code",
   "execution_count": null,
   "id": "085a1cd2",
   "metadata": {},
   "outputs": [],
   "source": [
    "perf stat ls"
   ]
  },
  {
   "cell_type": "markdown",
   "id": "4b3dc9b1",
   "metadata": {},
   "source": [
    "Now let's profile the knapsack program. Note, for knapsack we need to indicate the path of the\n",
    "executable and the input file name after the `stat` command."
   ]
  },
  {
   "cell_type": "code",
   "execution_count": null,
   "id": "807a9280",
   "metadata": {},
   "outputs": [],
   "source": [
    "perf stat ./knapsack input"
   ]
  },
  {
   "cell_type": "markdown",
   "id": "77d0f38d",
   "metadata": {},
   "source": [
    "`perf` reports not only the execution time, at a better resolution, but also tells us what's\n",
    "happening inside the processor. This gives us insight about potential performance bottlenecks. Most\n",
    "of the items listed in the `perf` output (e.g., pipeline stalls, mis-predicted branches) are things\n",
    "we will talk about later in the semester."
   ]
  }
 ],
 "metadata": {
  "kernelspec": {
   "display_name": "Bash",
   "language": "bash",
   "name": "bash"
  },
  "language_info": {
   "codemirror_mode": "shell",
   "file_extension": ".sh",
   "mimetype": "text/x-sh",
   "name": "bash"
  }
 },
 "nbformat": 4,
 "nbformat_minor": 5
}
